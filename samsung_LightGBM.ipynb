{
  "nbformat": 4,
  "nbformat_minor": 0,
  "metadata": {
    "colab": {
      "private_outputs": true,
      "provenance": [],
      "authorship_tag": "ABX9TyPj5f3336TVwtzO94lAmCN8",
      "include_colab_link": true
    },
    "kernelspec": {
      "name": "python3",
      "display_name": "Python 3"
    },
    "language_info": {
      "name": "python"
    }
  },
  "cells": [
    {
      "cell_type": "markdown",
      "metadata": {
        "id": "view-in-github",
        "colab_type": "text"
      },
      "source": [
        "<a href=\"https://colab.research.google.com/github/tlsgptj/2024-Samsung-AI-Challenge-Black-box-Optimization/blob/main/samsung_LightGBM.ipynb\" target=\"_parent\"><img src=\"https://colab.research.google.com/assets/colab-badge.svg\" alt=\"Open In Colab\"/></a>"
      ]
    },
    {
      "cell_type": "code",
      "source": [
        "!pip install scikit-optimize"
      ],
      "metadata": {
        "id": "rIYQOWNWeow_"
      },
      "execution_count": null,
      "outputs": []
    },
    {
      "cell_type": "code",
      "execution_count": null,
      "metadata": {
        "id": "9KJ6DsbseZUd"
      },
      "outputs": [],
      "source": [
        "import pandas as pd\n",
        "import numpy as np\n",
        "from sklearn.model_selection import train_test_split\n",
        "from sklearn.metrics import mean_squared_error, r2_score\n",
        "from lightgbm import LGBMRegressor\n",
        "from skopt import BayesSearchCV"
      ]
    },
    {
      "cell_type": "code",
      "source": [
        "train_df = pd.read_csv('train.csv')\n",
        "test_df = pd.read_csv('test.csv')\n",
        "X_train = train_df.drop(columns=['ID', 'y'])  # 'ID'와 'y'를 제외한 특징 사용\n",
        "y_train = train_df['y']\n",
        "X_test = test_df.drop(columns=['ID'])  # 'ID'를 제외한 특징 사용\n",
        "test_ids = test_df['ID']  # 제출을 위한 ID"
      ],
      "metadata": {
        "id": "xxtOdMMRemHS"
      },
      "execution_count": null,
      "outputs": []
    },
    {
      "cell_type": "code",
      "source": [
        "lgbm_model = LGBMRegressor(random_state=42)"
      ],
      "metadata": {
        "id": "D5WXwi-CexfC"
      },
      "execution_count": null,
      "outputs": []
    },
    {
      "cell_type": "code",
      "source": [
        "param_space_lgbm = {\n",
        "    'n_estimators': (100, 1000),\n",
        "    'max_depth': (3, 15),\n",
        "    'learning_rate': (0.01, 0.3, 'log-uniform'),\n",
        "    'num_leaves': (20, 50),\n",
        "    'min_child_samples': (5, 30),\n",
        "    'subsample': (0.5, 1.0),\n",
        "    'colsample_bytree': (0.5, 1.0)\n",
        "}"
      ],
      "metadata": {
        "id": "dvvk53Cfezj1"
      },
      "execution_count": null,
      "outputs": []
    },
    {
      "cell_type": "code",
      "source": [
        "opt_lgbm = BayesSearchCV(estimator=lgbm_model, search_spaces=param_space_lgbm, n_iter=50, cv=3, n_jobs=-1, random_state=42)"
      ],
      "metadata": {
        "id": "fU3LkZgMe1R9"
      },
      "execution_count": null,
      "outputs": []
    },
    {
      "cell_type": "code",
      "source": [
        "opt_lgbm.fit(X_train, y_train)\n",
        "print(\"Best hyperparameters for LightGBM:\", opt_lgbm.best_params_)"
      ],
      "metadata": {
        "id": "zaV_1MSXe3qY"
      },
      "execution_count": null,
      "outputs": []
    },
    {
      "cell_type": "code",
      "source": [
        "y_test_pred_lgbm = opt_lgbm.predict(X_test)"
      ],
      "metadata": {
        "id": "A-1snz-ke5XY"
      },
      "execution_count": null,
      "outputs": []
    },
    {
      "cell_type": "code",
      "source": [
        "X_train_part, X_valid, y_train_part, y_valid = train_test_split(X_train, y_train, test_size=0.2, random_state=42)\n",
        "opt_lgbm.fit(X_train_part, y_train_part)\n",
        "y_valid_pred_lgbm = opt_lgbm.predict(X_valid)\n",
        "mse_lgbm = mean_squared_error(y_valid, y_valid_pred_lgbm)\n",
        "r2_lgbm = r2_score(y_valid, y_valid_pred_lgbm)\n",
        "print(f\"Validation Mean Squared Error (LightGBM): {mse_lgbm:.4f}\")\n",
        "print(f\"Validation R-squared (LightGBM): {r2_lgbm:.4f}\")"
      ],
      "metadata": {
        "id": "nPTkwYElfNTE"
      },
      "execution_count": null,
      "outputs": []
    },
    {
      "cell_type": "code",
      "source": [
        "threshold_lgbm = np.percentile(y_test_pred_lgbm, 67)\n",
        "top_33_percent_mask_lgbm = y_test_pred_lgbm >= threshold_lgbm"
      ],
      "metadata": {
        "id": "MZej73kyfO7S"
      },
      "execution_count": null,
      "outputs": []
    },
    {
      "cell_type": "code",
      "source": [
        "submission_df_lgbm = pd.read_csv('sample_submission.csv')\n",
        "submission_df_lgbm['y'] = y_test_pred_lgbm\n",
        "submission_df_lgbm.to_csv('lgbm_updated_submission.csv', index=False)\n",
        "\n",
        "print(f\"Top 33% threshold (LightGBM): {threshold_lgbm:.4f}\")\n",
        "print(f\"Number of samples in top 33% (LightGBM): {sum(top_33_percent_mask_lgbm)}\")\n",
        "print(\"Submission file 'lgbm_updated_submission.csv' created successfully.\")"
      ],
      "metadata": {
        "id": "3HI58p1hfQ1T"
      },
      "execution_count": null,
      "outputs": []
    },
    {
      "cell_type": "code",
      "source": [
        "import pandas as pd\n",
        "import numpy as np\n",
        "from sklearn.model_selection import train_test_split\n",
        "from sklearn.metrics import mean_squared_error, r2_score\n",
        "from lightgbm import LGBMRegressor\n",
        "from skopt import BayesSearchCV\n",
        "from sklearn.preprocessing import StandardScaler, OneHotEncoder\n",
        "from sklearn.impute import SimpleImputer\n",
        "from sklearn.compose import ColumnTransformer\n",
        "from sklearn.pipeline import Pipeline"
      ],
      "metadata": {
        "id": "BvX1FvVuibSC"
      },
      "execution_count": null,
      "outputs": []
    },
    {
      "cell_type": "code",
      "source": [
        "train_df = pd.read_csv('train.csv')\n",
        "test_df = pd.read_csv('test.csv')"
      ],
      "metadata": {
        "id": "LndELer_ltaG"
      },
      "execution_count": null,
      "outputs": []
    },
    {
      "cell_type": "code",
      "source": [
        "print(\"Train DataFrame columns:\", train_df.columns)"
      ],
      "metadata": {
        "id": "2vypbcVSlu2Z"
      },
      "execution_count": null,
      "outputs": []
    },
    {
      "cell_type": "code",
      "source": [
        "# 수치형과 범주형 특성 선택\n",
        "numerical_features = train_df.select_dtypes(include=['int64', 'float64']).columns.tolist()\n",
        "categorical_features = train_df.select_dtypes(include=['object']).columns.tolist()\n",
        "\n",
        "# 'ID'와 'y'는 제거\n",
        "numerical_features = [col for col in numerical_features if col not in ['ID', 'y']]\n",
        "categorical_features = [col for col in categorical_features if col != 'ID']\n",
        "\n",
        "print(\"Numerical features:\", numerical_features)\n",
        "print(\"Categorical features:\", categorical_features)\n",
        "\n",
        "# 결측값 대체 전략 설정\n",
        "numerical_transformer = SimpleImputer(strategy='mean')\n",
        "categorical_transformer = Pipeline(steps=[\n",
        "    ('imputer', SimpleImputer(strategy='most_frequent')),\n",
        "    ('onehot', OneHotEncoder(handle_unknown='ignore'))\n",
        "])"
      ],
      "metadata": {
        "id": "D_mHl6a3lwLw"
      },
      "execution_count": null,
      "outputs": []
    },
    {
      "cell_type": "code",
      "source": [
        "# 컬럼 변환기를 통해 수치형과 범주형에 다른 전처리 적용\n",
        "preprocessor = ColumnTransformer(\n",
        "    transformers=[\n",
        "        ('num', numerical_transformer, numerical_features),\n",
        "        ('cat', categorical_transformer, categorical_features)\n",
        "    ],\n",
        "    remainder='passthrough'  # 나머지 컬럼은 그대로 유지\n",
        ")"
      ],
      "metadata": {
        "id": "JUs4g9a3ly2_"
      },
      "execution_count": null,
      "outputs": []
    },
    {
      "cell_type": "code",
      "source": [
        "# 전처리 및 모델을 포함하는 파이프라인 구성\n",
        "model = LGBMRegressor(random_state=42)"
      ],
      "metadata": {
        "id": "BYWTOLral0k_"
      },
      "execution_count": null,
      "outputs": []
    },
    {
      "cell_type": "code",
      "source": [
        "pipeline = Pipeline(steps=[\n",
        "    ('preprocessor', preprocessor),\n",
        "    ('scaler', StandardScaler()),  # 스케일링 추가\n",
        "    ('model', model)\n",
        "])"
      ],
      "metadata": {
        "id": "ALLzCNF-l2Se"
      },
      "execution_count": null,
      "outputs": []
    },
    {
      "cell_type": "code",
      "source": [
        "# 하이퍼파라미터 검색 공간 정의\n",
        "param_space_lgbm = {\n",
        "    'model__n_estimators': (100, 1000),\n",
        "    'model__max_depth': (3, 15),\n",
        "    'model__learning_rate': (0.01, 0.3, 'log-uniform'),\n",
        "    'model__subsample': (0.5, 1.0),\n",
        "    'model__colsample_bytree': (0.5, 1.0),\n",
        "    'model__min_child_samples': (1, 30)\n",
        "}"
      ],
      "metadata": {
        "id": "7dKlAxnil3-0"
      },
      "execution_count": null,
      "outputs": []
    },
    {
      "cell_type": "code",
      "source": [
        "opt_lgbm = BayesSearchCV(estimator=pipeline, search_spaces=param_space_lgbm, n_iter=50, cv=3, n_jobs=-1, random_state=42)"
      ],
      "metadata": {
        "id": "qmkFS1S2l5sl"
      },
      "execution_count": null,
      "outputs": []
    },
    {
      "cell_type": "code",
      "source": [
        "# 학습 데이터 준비\n",
        "X_train = train_df.drop(columns=['ID', 'y'])\n",
        "y_train = train_df['y']"
      ],
      "metadata": {
        "id": "HEkvEcELl8Zk"
      },
      "execution_count": null,
      "outputs": []
    },
    {
      "cell_type": "code",
      "source": [
        "# y_train의 결측값 처리\n",
        "X_train = X_train[~y_train.isnull()]\n",
        "y_train = y_train.dropna()"
      ],
      "metadata": {
        "id": "VSQwQr-ll9pT"
      },
      "execution_count": null,
      "outputs": []
    },
    {
      "cell_type": "code",
      "source": [
        "# 모델 학습 및 최적의 하이퍼파라미터 찾기\n",
        "opt_lgbm.fit(X_train, y_train)\n",
        "print(\"Best hyperparameters for LightGBM:\", opt_lgbm.best_params_)"
      ],
      "metadata": {
        "id": "tIVmyP05l-2r"
      },
      "execution_count": null,
      "outputs": []
    },
    {
      "cell_type": "code",
      "source": [
        "# 테스트 데이터 예측\n",
        "X_test = test_df.drop(columns=['ID'])\n",
        "y_test_pred_lgbm = opt_lgbm.predict(X_test)"
      ],
      "metadata": {
        "id": "IEpB8HfjmBE4"
      },
      "execution_count": null,
      "outputs": []
    },
    {
      "cell_type": "code",
      "source": [
        "# 성능 평가 (학습 데이터에서 성능 검증)\n",
        "X_train_part, X_valid, y_train_part, y_valid = train_test_split(X_train, y_train, test_size=0.2, random_state=42)\n",
        "opt_lgbm.fit(X_train_part, y_train_part)\n",
        "y_valid_pred_lgbm = opt_lgbm.predict(X_valid)\n",
        "mse_lgbm = mean_squared_error(y_valid, y_valid_pred_lgbm)\n",
        "r2_lgbm = r2_score(y_valid, y_valid_pred_lgbm)\n",
        "print(f\"Validation Mean Squared Error (LightGBM): {mse_lgbm:.4f}\")\n",
        "print(f\"Validation R-squared (LightGBM): {r2_lgbm:.4f}\")"
      ],
      "metadata": {
        "id": "kEvY7l0pmTi0"
      },
      "execution_count": null,
      "outputs": []
    },
    {
      "cell_type": "code",
      "source": [
        "# 상위 33% 임계값 계산\n",
        "threshold_lgbm = np.percentile(y_test_pred_lgbm, 67)\n",
        "top_33_percent_mask_lgbm = y_test_pred_lgbm >= threshold_lgbm"
      ],
      "metadata": {
        "id": "FYSKTUdAmWG4"
      },
      "execution_count": null,
      "outputs": []
    },
    {
      "cell_type": "code",
      "source": [
        "# 제출 파일 생성\n",
        "submission_df_lgbm = pd.read_csv('sample_submission.csv')\n",
        "submission_df_lgbm['y'] = y_test_pred_lgbm\n",
        "submission_df_lgbm.to_csv('lgbm_updated_submission.csv', index=False)\n",
        "\n",
        "print(f\"Top 33% threshold (LightGBM): {threshold_lgbm:.4f}\")\n",
        "print(f\"Number of samples in top 33% (LightGBM): {sum(top_33_percent_mask_lgbm)}\")\n",
        "print(\"Submission file 'lgbm_Feature_submission.csv' created successfully.\")"
      ],
      "metadata": {
        "id": "Ss3OSmQMmYMt"
      },
      "execution_count": null,
      "outputs": []
    },
    {
      "cell_type": "markdown",
      "source": [
        "Top 33% threshold (LightGBM): 84.4885\n",
        "Number of samples in top 33% (LightGBM): 1646\n",
        "Submission file 'lgbm_Feature_submission.csv' created successfully."
      ],
      "metadata": {
        "id": "12YqotHtpX44"
      }
    },
    {
      "cell_type": "code",
      "source": [],
      "metadata": {
        "id": "axodrk0Jo30M"
      },
      "execution_count": null,
      "outputs": []
    }
  ]
}